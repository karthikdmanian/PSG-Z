{
 "cells": [
  {
   "cell_type": "code",
   "execution_count": 9,
   "id": "a7f8c5f3",
   "metadata": {},
   "outputs": [],
   "source": [
    "import pandas as pd\n",
    "import numpy as np\n",
    "import matplotlib.pyplot as plt\n",
    "\n",
    "file = pd.read_csv(\"Z:/SEM 5/20XW58 MACHINE LEARNING LAB/ws1/datasets/iris.csv\")\n",
    "\n",
    "sepL= np.array(file[\"SepalLengthCm\"])[:6]\n",
    "sepW = np.array(file[\"SepalWidthCm\"])[:6]\n",
    "\n",
    "petalLength = np.array(file['PetalLengthCm'])[:6]\n",
    "petalWidth = np.array(file[\"PetalWidthCm\"])[:6]\n",
    "\n",
    "# print(sepL)"
   ]
  },
  {
   "cell_type": "code",
   "execution_count": 5,
   "id": "00b26cab",
   "metadata": {},
   "outputs": [],
   "source": [
    "def scatterPlot(x,y):\n",
    "    plt.scatter(x,y)\n",
    "    plt.show()"
   ]
  },
  {
   "cell_type": "code",
   "execution_count": 12,
   "id": "c0bd8350",
   "metadata": {},
   "outputs": [
    {
     "name": "stdout",
     "output_type": "stream",
     "text": [
      "slope 1.0240963855421228 xintercept -1.685943775099986\n"
     ]
    },
    {
     "data": {
      "image/png": "[encoded data removed]",
      "text/plain": [
       "<Figure size 432x288 with 1 Axes>"
      ]
     },
     "metadata": {
      "needs_background": "light"
     },
     "output_type": "display_data"
    },
    {
     "data": {
      "image/png": "[encoded data removed]",
      "text/plain": [
       "<Figure size 432x288 with 1 Axes>"
      ]
     },
     "metadata": {
      "needs_background": "light"
     },
     "output_type": "display_data"
    },
    {
     "ename": "TypeError",
     "evalue": "object of type 'int' has no len()",
     "output_type": "error",
     "traceback": [
      "\u001b[1;31m---------------------------------------------------------------------------\u001b[0m",
      "\u001b[1;31mTypeError\u001b[0m                                 Traceback (most recent call last)",
      "\u001b[1;32mC:\\Users\\TEMP~1.CS2\\AppData\\Local\\Temp/ipykernel_3500/154110834.py\u001b[0m in \u001b[0;36m<module>\u001b[1;34m\u001b[0m\n\u001b[0;32m     42\u001b[0m     \u001b[0mprint\u001b[0m\u001b[1;33m(\u001b[0m\u001b[1;34mf\"SSE :{SSE} + SSR:{SSR} = SST {SSE+SSR}.\"\u001b[0m\u001b[1;33m)\u001b[0m\u001b[1;33m\u001b[0m\u001b[1;33m\u001b[0m\u001b[0m\n\u001b[0;32m     43\u001b[0m \u001b[1;33m\u001b[0m\u001b[0m\n\u001b[1;32m---> 44\u001b[1;33m \u001b[0mlinear_regression\u001b[0m\u001b[1;33m(\u001b[0m\u001b[0msepL\u001b[0m\u001b[1;33m,\u001b[0m\u001b[0msepW\u001b[0m\u001b[1;33m,\u001b[0m\u001b[1;33m[\u001b[0m\u001b[1;34m\"SepalLengthCm\"\u001b[0m\u001b[1;33m,\u001b[0m\u001b[1;34m\"SepalWidthCm\"\u001b[0m\u001b[1;33m]\u001b[0m\u001b[1;33m)\u001b[0m\u001b[1;33m\u001b[0m\u001b[1;33m\u001b[0m\u001b[0m\n\u001b[0m\u001b[0;32m     45\u001b[0m \u001b[0mlinear_regression\u001b[0m\u001b[1;33m(\u001b[0m\u001b[0mpetalLength\u001b[0m\u001b[1;33m,\u001b[0m\u001b[0mpetalWidth\u001b[0m\u001b[1;33m,\u001b[0m\u001b[1;33m[\u001b[0m\u001b[1;34m\"PetalLengthCm\"\u001b[0m\u001b[1;33m,\u001b[0m\u001b[1;34m\"PetalWidthCm\"\u001b[0m\u001b[1;33m]\u001b[0m\u001b[1;33m)\u001b[0m\u001b[1;33m\u001b[0m\u001b[1;33m\u001b[0m\u001b[0m\n",
      "\u001b[1;32mC:\\Users\\TEMP~1.CS2\\AppData\\Local\\Temp/ipykernel_3500/154110834.py\u001b[0m in \u001b[0;36mlinear_regression\u001b[1;34m(X, y, z)\u001b[0m\n\u001b[0;32m     32\u001b[0m     \u001b[0mplt\u001b[0m\u001b[1;33m.\u001b[0m\u001b[0mshow\u001b[0m\u001b[1;33m(\u001b[0m\u001b[1;33m)\u001b[0m\u001b[1;33m\u001b[0m\u001b[1;33m\u001b[0m\u001b[0m\n\u001b[0;32m     33\u001b[0m \u001b[1;33m\u001b[0m\u001b[0m\n\u001b[1;32m---> 34\u001b[1;33m     \u001b[0mybar\u001b[0m\u001b[1;33m=\u001b[0m\u001b[0msum\u001b[0m\u001b[1;33m(\u001b[0m\u001b[0my\u001b[0m\u001b[1;33m)\u001b[0m\u001b[1;33m/\u001b[0m\u001b[0mlen\u001b[0m\u001b[1;33m(\u001b[0m\u001b[1;36m6\u001b[0m\u001b[1;33m)\u001b[0m\u001b[1;33m\u001b[0m\u001b[1;33m\u001b[0m\u001b[0m\n\u001b[0m\u001b[0;32m     35\u001b[0m     \u001b[0mSSE\u001b[0m\u001b[1;33m=\u001b[0m\u001b[1;36m0\u001b[0m\u001b[1;33m\u001b[0m\u001b[1;33m\u001b[0m\u001b[0m\n\u001b[0;32m     36\u001b[0m     \u001b[0mSSR\u001b[0m\u001b[1;33m=\u001b[0m\u001b[1;36m0\u001b[0m\u001b[1;33m\u001b[0m\u001b[1;33m\u001b[0m\u001b[0m\n",
      "\u001b[1;31mTypeError\u001b[0m: object of type 'int' has no len()"
     ]
    }
   ],
   "source": [
    "def linear_regression(X,y,z):\n",
    "    x=[]\n",
    "    for i in X:\n",
    "        x.append([1,i])\n",
    "        \n",
    "#   xTx inverse calc\n",
    "    x=np.array(x)\n",
    "    x_tp=x.T\n",
    "    xtx=x_tp.dot(x)\n",
    "    \n",
    "    xtxi=np.linalg.inv(xtx)\n",
    "    \n",
    "#     xTy calc\n",
    "    xty=x_tp.dot(y)\n",
    "    \n",
    "#     slope , intercept calc\n",
    "    B=xtxi.dot(xty)\n",
    "    \n",
    "    b0=B[0]\n",
    "    b1=B[1]\n",
    "    print(f\"slope {b1} xintercept {b0}\")\n",
    "#     generating y values\n",
    "    y_cap=[]\n",
    "    for i in X:\n",
    "        y_cap.append(b0+b1*i)\n",
    "    \n",
    "#     comparing the values\n",
    "    scatterPlot(X,y)\n",
    "    plt.plot(X,y_cap)\n",
    "    plt.xlabel(z)\n",
    "    plt.ylabel(\"price\")\n",
    "    plt.show()\n",
    "    \n",
    "    ybar=sum(y)/len(6)\n",
    "    SSE=0\n",
    "    SSR=0\n",
    "    \n",
    "    for i in range(0,len(y_cap)):\n",
    "        SSE+=(y_cap[i]-y[i])^2\n",
    "        SSR+=(y_cap[i]-ybar)^2\n",
    "\n",
    "    print(f\"SSE :{SSE} + SSR:{SSR} = SST {SSE+SSR}.\")\n",
    "\n",
    "linear_regression(sepL,sepW,[\"SepalLengthCm\",\"SepalWidthCm\"])\n",
    "linear_regression(petalLength,petalWidth,[\"PetalLengthCm\",\"PetalWidthCm\"])"
   ]
  },
  {
   "cell_type": "code",
   "execution_count": null,
   "id": "89f418a3",
   "metadata": {},
   "outputs": [],
   "source": []
  }
 ],
 "metadata": {
  "kernelspec": {
   "display_name": "Python 3 (ipykernel)",
   "language": "python",
   "name": "python3"
  },
  "language_info": {
   "codemirror_mode": {
    "name": "ipython",
    "version": 3
   },
   "file_extension": ".py",
   "mimetype": "text/x-python",
   "name": "python",
   "nbconvert_exporter": "python",
   "pygments_lexer": "ipython3",
   "version": "3.9.7"
  }
 },
 "nbformat": 4,
 "nbformat_minor": 5
}
