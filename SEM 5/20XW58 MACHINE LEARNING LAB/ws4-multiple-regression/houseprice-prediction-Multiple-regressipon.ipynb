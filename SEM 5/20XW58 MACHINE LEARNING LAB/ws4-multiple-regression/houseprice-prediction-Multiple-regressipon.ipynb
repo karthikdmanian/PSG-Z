{
 "cells": [
  {
   "cell_type": "code",
   "execution_count": 3,
   "id": "4a2f211e",
   "metadata": {},
   "outputs": [
    {
     "name": "stdout",
     "output_type": "stream",
     "text": [
      "                     date         price  bedrooms  bathrooms  sqft_living  \\\n",
      "0     2014-05-02 00:00:00  3.130000e+05       3.0       1.50         1340   \n",
      "1     2014-05-02 00:00:00  2.384000e+06       5.0       2.50         3650   \n",
      "2     2014-05-02 00:00:00  3.420000e+05       3.0       2.00         1930   \n",
      "3     2014-05-02 00:00:00  4.200000e+05       3.0       2.25         2000   \n",
      "4     2014-05-02 00:00:00  5.500000e+05       4.0       2.50         1940   \n",
      "...                   ...           ...       ...        ...          ...   \n",
      "4595  2014-07-09 00:00:00  3.081667e+05       3.0       1.75         1510   \n",
      "4596  2014-07-09 00:00:00  5.343333e+05       3.0       2.50         1460   \n",
      "4597  2014-07-09 00:00:00  4.169042e+05       3.0       2.50         3010   \n",
      "4598  2014-07-10 00:00:00  2.034000e+05       4.0       2.00         2090   \n",
      "4599  2014-07-10 00:00:00  2.206000e+05       3.0       2.50         1490   \n",
      "\n",
      "      sqft_lot  floors  waterfront  view  condition  sqft_above  \\\n",
      "0         7912     1.5           0     0          3        1340   \n",
      "1         9050     2.0           0     4          5        3370   \n",
      "2        11947     1.0           0     0          4        1930   \n",
      "3         8030     1.0           0     0          4        1000   \n",
      "4        10500     1.0           0     0          4        1140   \n",
      "...        ...     ...         ...   ...        ...         ...   \n",
      "4595      6360     1.0           0     0          4        1510   \n",
      "4596      7573     2.0           0     0          3        1460   \n",
      "4597      7014     2.0           0     0          3        3010   \n",
      "4598      6630     1.0           0     0          3        1070   \n",
      "4599      8102     2.0           0     0          4        1490   \n",
      "\n",
      "      sqft_basement  yr_built  yr_renovated                    street  \\\n",
      "0                 0      1955          2005      18810 Densmore Ave N   \n",
      "1               280      1921             0           709 W Blaine St   \n",
      "2                 0      1966             0  26206-26214 143rd Ave SE   \n",
      "3              1000      1963             0           857 170th Pl NE   \n",
      "4               800      1976          1992         9105 170th Ave NE   \n",
      "...             ...       ...           ...                       ...   \n",
      "4595              0      1954          1979            501 N 143rd St   \n",
      "4596              0      1983          2009          14855 SE 10th Pl   \n",
      "4597              0      2009             0          759 Ilwaco Pl NE   \n",
      "4598           1020      1974             0         5148 S Creston St   \n",
      "4599              0      1990             0         18717 SE 258th St   \n",
      "\n",
      "           city  statezip country  \n",
      "0     Shoreline  WA 98133     USA  \n",
      "1       Seattle  WA 98119     USA  \n",
      "2          Kent  WA 98042     USA  \n",
      "3      Bellevue  WA 98008     USA  \n",
      "4       Redmond  WA 98052     USA  \n",
      "...         ...       ...     ...  \n",
      "4595    Seattle  WA 98133     USA  \n",
      "4596   Bellevue  WA 98007     USA  \n",
      "4597     Renton  WA 98059     USA  \n",
      "4598    Seattle  WA 98178     USA  \n",
      "4599  Covington  WA 98042     USA  \n",
      "\n",
      "[4600 rows x 18 columns]\n"
     ]
    }
   ],
   "source": [
    "# 20pw16\n",
    "import numpy as np\n",
    "import matplotlib.pyplot as plt\n",
    "import pandas as pd\n",
    "\n",
    "file = pd.read_csv(r\"Z:/SEM 5/20XW58 MACHINE LEARNING LAB/ws4-multiple-regression/datasets/data.csv\")"
   ]
  },
  {
   "cell_type": "code",
   "execution_count": 33,
   "id": "1206ddf2",
   "metadata": {},
   "outputs": [],
   "source": [
    "# y value (dep)\n",
    "price = np.array(file['price'])\n",
    "\n",
    "# x values indep\n",
    "bedrooms = np.array(file['bedrooms'])\n",
    "bathrooms = np.array(file['bathrooms'])\n",
    "sqft_living = np.array(file['sqft_living'])\n",
    "sqft_lot = np.array(file['sqft_lot'])\n",
    "sqft_above = np.array(file['sqft_above'])\n",
    "sqft_basement = np.array(file['sqft_basement'])"
   ]
  },
  {
   "cell_type": "code",
   "execution_count": 48,
   "id": "303fab38",
   "metadata": {},
   "outputs": [],
   "source": [
    "def scatterPlot(x,y):\n",
    "    plt.scatter(x,y)\n",
    "    plt.show()"
   ]
  },
  {
   "cell_type": "code",
   "execution_count": 64,
   "id": "c2986988",
   "metadata": {},
   "outputs": [],
   "source": [
    "def multiple_regression(x_components,y):\n",
    "    x=[]\n",
    "    y=np.array(y)\n",
    "    size=len(x_components[0])\n",
    "\n",
    "    for i in range(0,size):\n",
    "        x.append([x_components[x][i] for x in range(0,len(x_components))])\n",
    "        x[i].insert(0,1)\n",
    "    \n",
    "    x=np.array(x)\n",
    "    x_tp = x.T\n",
    "#     print(x)\n",
    "#     print(y)\n",
    "    xTx = x_tp.dot(x)\n",
    "#     print(xTx)\n",
    "    \n",
    "    xTy = x_tp.dot(y)\n",
    "#     print(xTy)\n",
    "    \n",
    "    xTxi = np.linalg.inv(xTx)\n",
    "    \n",
    "    W = xTxi.dot(xTy)\n",
    "#     print(W)\n",
    "    \n",
    "    y_cap= []\n",
    "    \n",
    "    for i in range(0,size):\n",
    "        y_cap.append(W[0]+W[1]*x_components[0][i]+W[2]*x_components[1][i]+W[3]*x_components[2][i]+W[4]*x_components[3][i])\n",
    "    \n",
    "#     print(y_cap)\n",
    "#     scatterPlot(x_components[0],y)\n",
    "#     scatterPlot(x_components[0],y_cap)"
   ]
  },
  {
   "cell_type": "code",
   "execution_count": 65,
   "id": "2bfb37e6",
   "metadata": {},
   "outputs": [
    {
     "data": {
      "image/png": "[encoded data removed]",
      "text/plain": [
       "<Figure size 432x288 with 1 Axes>"
      ]
     },
     "metadata": {
      "needs_background": "light"
     },
     "output_type": "display_data"
    },
    {
     "data": {
      "image/png": "[encoded data removed]",
      "text/plain": [
       "<Figure size 432x288 with 1 Axes>"
      ]
     },
     "metadata": {
      "needs_background": "light"
     },
     "output_type": "display_data"
    }
   ],
   "source": [
    "# multiple_regression([[7,3,3,4,6,7],[560,220,340,80,150,330]],[16.68,11.50,12.03,14.88,13.75,18.11])\n",
    "multiple_regression([sqft_living,sqft_lot,sqft_above,sqft_basement],price)"
   ]
  },
  {
   "cell_type": "code",
   "execution_count": null,
   "id": "0f605a88",
   "metadata": {},
   "outputs": [],
   "source": []
  }
 ],
 "metadata": {
  "kernelspec": {
   "display_name": "Python 3 (ipykernel)",
   "language": "python",
   "name": "python3"
  },
  "language_info": {
   "codemirror_mode": {
    "name": "ipython",
    "version": 3
   },
   "file_extension": ".py",
   "mimetype": "text/x-python",
   "name": "python",
   "nbconvert_exporter": "python",
   "pygments_lexer": "ipython3",
   "version": "3.9.7"
  }
 },
 "nbformat": 4,
 "nbformat_minor": 5
}
